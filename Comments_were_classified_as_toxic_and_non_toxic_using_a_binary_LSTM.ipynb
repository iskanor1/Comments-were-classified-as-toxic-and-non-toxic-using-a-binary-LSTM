{
  "nbformat": 4,
  "nbformat_minor": 0,
  "metadata": {
    "colab": {
      "provenance": [],
      "include_colab_link": true
    },
    "kernelspec": {
      "name": "python3",
      "display_name": "Python 3"
    },
    "language_info": {
      "name": "python"
    }
  },
  "cells": [
    {
      "cell_type": "markdown",
      "metadata": {
        "id": "view-in-github",
        "colab_type": "text"
      },
      "source": [
        "<a href=\"https://colab.research.google.com/github/iskanor1/Comments-were-classified-as-toxic-and-non-toxic-using-a-binary-LSTM/blob/main/Comments_were_classified_as_toxic_and_non_toxic_using_a_binary_LSTM.ipynb\" target=\"_parent\"><img src=\"https://colab.research.google.com/assets/colab-badge.svg\" alt=\"Open In Colab\"/></a>"
      ]
    },
    {
      "cell_type": "code",
      "source": [
        "import pandas as pd\n",
        "import numpy as np\n",
        "import tensorflow as tf\n",
        "from tensorflow.keras.preprocessing.text import Tokenizer\n",
        "from tensorflow.keras.preprocessing.sequence import pad_sequences\n",
        "from tensorflow.keras.models import Sequential\n",
        "from tensorflow.keras.layers import Embedding, LSTM, Dense, Dropout, Bidirectional, BatchNormalization\n",
        "from tensorflow.keras.optimizers import Adam\n",
        "from tensorflow.keras.callbacks import EarlyStopping\n",
        "from sklearn.model_selection import train_test_split\n",
        "from sklearn.metrics import classification_report\n",
        "import pickle"
      ],
      "metadata": {
        "id": "EWPBJDSMd4xP"
      },
      "execution_count": 2,
      "outputs": []
    },
    {
      "cell_type": "code",
      "source": [
        "\n",
        "url = \"https://raw.githubusercontent.com/t-davidson/hate-speech-and-offensive-language/master/data/labeled_data.csv\"\n",
        "df = pd.read_csv(url)"
      ],
      "metadata": {
        "id": "SlBQ4gEyd5d2"
      },
      "execution_count": 3,
      "outputs": []
    },
    {
      "cell_type": "code",
      "source": [
        "df.rename(columns={'tweet': 'comment_text'}, inplace=True)\n",
        "df['toxic'] = df['class'].apply(lambda x: 1 if x in [0, 1] else 0)\n",
        "\n",
        "MAX_NUM_WORDS = 20000\n",
        "MAX_SEQUENCE_LENGTH = 150\n",
        "EMBEDDING_DIM = 100\n",
        "\n",
        "tokenizer = Tokenizer(num_words=MAX_NUM_WORDS, oov_token=\"<OOV>\")\n",
        "tokenizer.fit_on_texts(df['comment_text'].astype(str))\n",
        "sequences = tokenizer.texts_to_sequences(df['comment_text'].astype(str))\n",
        "data = pad_sequences(sequences, maxlen=MAX_SEQUENCE_LENGTH)\n",
        "labels = np.array(df['toxic'])\n",
        "\n",
        "X_train, X_test, y_train, y_test = train_test_split(\n",
        "    data, labels, test_size=0.2, random_state=42\n",
        ")"
      ],
      "metadata": {
        "id": "c4moIj9QeA4O"
      },
      "execution_count": 4,
      "outputs": []
    },
    {
      "cell_type": "code",
      "source": [
        "model = Sequential([\n",
        "    Embedding(MAX_NUM_WORDS, EMBEDDING_DIM, input_length=MAX_SEQUENCE_LENGTH),\n",
        "    Bidirectional(LSTM(64, return_sequences=True, recurrent_dropout=0.3)),\n",
        "    Dropout(0.5),\n",
        "    BatchNormalization(),\n",
        "    Bidirectional(LSTM(32, recurrent_dropout=0.3)),\n",
        "    Dense(64, activation='relu'),\n",
        "    Dropout(0.5),\n",
        "    Dense(1, activation='sigmoid')\n",
        "])\n",
        "\n",
        "model.compile(\n",
        "    loss='binary_crossentropy',\n",
        "    optimizer=Adam(learning_rate=1e-3),\n",
        "    metrics=['accuracy']\n",
        ")\n",
        "\n",
        "# Early stopping\n",
        "early_stop = EarlyStopping(monitor='val_loss', patience=3, restore_best_weights=True)\n",
        "\n",
        "model.fit(\n",
        "    X_train, y_train,\n",
        "    validation_split=0.2,\n",
        "    epochs=4,\n",
        "    batch_size=64,\n",
        "    callbacks=[early_stop],\n",
        "    verbose=1\n",
        ")\n",
        "\n",
        "y_pred = (model.predict(X_test) > 0.5).astype(\"int32\")\n",
        "print(classification_report(y_test, y_pred))\n",
        "\n",
        "model.save(\"toxic_comment_model.h5\")\n",
        "with open(\"tokenizer.pkl\", \"wb\") as f:\n",
        "    pickle.dump(tokenizer, f)\n",
        "\n",
        "def predict_comment(comment):\n",
        "    seq = tokenizer.texts_to_sequences([comment])\n",
        "    padded = pad_sequences(seq, maxlen=MAX_SEQUENCE_LENGTH)\n",
        "    pred = model.predict(padded)[0][0]\n",
        "    label = 1 if pred > 0.5 else 0\n",
        "    print(f\"\\nComment: {comment}\")\n",
        "    print(f\"Toxicity Prediction: {'TOXIC' if label==1 else 'NON-TOXIC'} (Score: {pred:.4f})\\n\")"
      ],
      "metadata": {
        "colab": {
          "base_uri": "https://localhost:8080/"
        },
        "id": "6GmFDVhYeH72",
        "outputId": "4abaf0fe-a4ba-45e9-afcb-bffd9850c509"
      },
      "execution_count": null,
      "outputs": [
        {
          "output_type": "stream",
          "name": "stderr",
          "text": [
            "/usr/local/lib/python3.12/dist-packages/keras/src/layers/core/embedding.py:97: UserWarning: Argument `input_length` is deprecated. Just remove it.\n",
            "  warnings.warn(\n"
          ]
        },
        {
          "output_type": "stream",
          "name": "stdout",
          "text": [
            "Epoch 1/4\n",
            "\u001b[1m248/248\u001b[0m \u001b[32m━━━━━━━━━━━━━━━━━━━━\u001b[0m\u001b[37m\u001b[0m \u001b[1m209s\u001b[0m 786ms/step - accuracy: 0.8605 - loss: 0.3660 - val_accuracy: 0.9586 - val_loss: 0.1294\n",
            "Epoch 2/4\n",
            "\u001b[1m248/248\u001b[0m \u001b[32m━━━━━━━━━━━━━━━━━━━━\u001b[0m\u001b[37m\u001b[0m \u001b[1m201s\u001b[0m 782ms/step - accuracy: 0.9674 - loss: 0.0939 - val_accuracy: 0.9395 - val_loss: 0.1428\n",
            "Epoch 3/4\n",
            "\u001b[1m248/248\u001b[0m \u001b[32m━━━━━━━━━━━━━━━━━━━━\u001b[0m\u001b[37m\u001b[0m \u001b[1m200s\u001b[0m 775ms/step - accuracy: 0.9840 - loss: 0.0516 - val_accuracy: 0.9511 - val_loss: 0.1558\n",
            "Epoch 4/4\n",
            "\u001b[1m248/248\u001b[0m \u001b[32m━━━━━━━━━━━━━━━━━━━━\u001b[0m\u001b[37m\u001b[0m \u001b[1m0s\u001b[0m 741ms/step - accuracy: 0.9894 - loss: 0.0375"
          ]
        }
      ]
    },
    {
      "cell_type": "code",
      "source": [
        "while True:\n",
        "    user_input = input(\"Enter a comment (or 'exit' to quit): \")\n",
        "    if user_input.lower() == 'exit':\n",
        "        break\n",
        "    predict_comment(user_input)"
      ],
      "metadata": {
        "colab": {
          "base_uri": "https://localhost:8080/"
        },
        "id": "4JPeqKSBeKHe",
        "outputId": "6d8b77a5-2bcc-49af-f696-e08ed98834cc"
      },
      "execution_count": null,
      "outputs": [
        {
          "name": "stdout",
          "output_type": "stream",
          "text": [
            "Enter a comment (or 'exit' to quit): fuck you mother fucker\n",
            "\u001b[1m1/1\u001b[0m \u001b[32m━━━━━━━━━━━━━━━━━━━━\u001b[0m\u001b[37m\u001b[0m \u001b[1m0s\u001b[0m 80ms/step\n",
            "\n",
            "Comment: fuck you mother fucker\n",
            "Toxicity Prediction: TOXIC (Score: 0.9987)\n",
            "\n",
            "Enter a comment (or 'exit' to quit): i love you \n",
            "\u001b[1m1/1\u001b[0m \u001b[32m━━━━━━━━━━━━━━━━━━━━\u001b[0m\u001b[37m\u001b[0m \u001b[1m0s\u001b[0m 81ms/step\n",
            "\n",
            "Comment: i love you \n",
            "Toxicity Prediction: NON-TOXIC (Score: 0.1746)\n",
            "\n",
            "Enter a comment (or 'exit' to quit): can you marry me?\n",
            "\u001b[1m1/1\u001b[0m \u001b[32m━━━━━━━━━━━━━━━━━━━━\u001b[0m\u001b[37m\u001b[0m \u001b[1m0s\u001b[0m 134ms/step\n",
            "\n",
            "Comment: can you marry me?\n",
            "Toxicity Prediction: NON-TOXIC (Score: 0.0764)\n",
            "\n",
            "Enter a comment (or 'exit' to quit): i will burn world for you\n",
            "\u001b[1m1/1\u001b[0m \u001b[32m━━━━━━━━━━━━━━━━━━━━\u001b[0m\u001b[37m\u001b[0m \u001b[1m0s\u001b[0m 84ms/step\n",
            "\n",
            "Comment: i will burn world for you\n",
            "Toxicity Prediction: NON-TOXIC (Score: 0.0491)\n",
            "\n",
            "Enter a comment (or 'exit' to quit): kosamk\n",
            "\u001b[1m1/1\u001b[0m \u001b[32m━━━━━━━━━━━━━━━━━━━━\u001b[0m\u001b[37m\u001b[0m \u001b[1m0s\u001b[0m 77ms/step\n",
            "\n",
            "Comment: kosamk\n",
            "Toxicity Prediction: NON-TOXIC (Score: 0.2313)\n",
            "\n",
            "Enter a comment (or 'exit' to quit): bitch\n",
            "\u001b[1m1/1\u001b[0m \u001b[32m━━━━━━━━━━━━━━━━━━━━\u001b[0m\u001b[37m\u001b[0m \u001b[1m0s\u001b[0m 147ms/step\n",
            "\n",
            "Comment: bitch\n",
            "Toxicity Prediction: TOXIC (Score: 0.9995)\n",
            "\n",
            "Enter a comment (or 'exit' to quit): i hate you\n",
            "\u001b[1m1/1\u001b[0m \u001b[32m━━━━━━━━━━━━━━━━━━━━\u001b[0m\u001b[37m\u001b[0m \u001b[1m0s\u001b[0m 80ms/step\n",
            "\n",
            "Comment: i hate you\n",
            "Toxicity Prediction: TOXIC (Score: 0.7321)\n",
            "\n",
            "Enter a comment (or 'exit' to quit): WTF\n",
            "\u001b[1m1/1\u001b[0m \u001b[32m━━━━━━━━━━━━━━━━━━━━\u001b[0m\u001b[37m\u001b[0m \u001b[1m0s\u001b[0m 123ms/step\n",
            "\n",
            "Comment: WTF\n",
            "Toxicity Prediction: TOXIC (Score: 0.9594)\n",
            "\n",
            "Enter a comment (or 'exit' to quit): IDK\n",
            "\u001b[1m1/1\u001b[0m \u001b[32m━━━━━━━━━━━━━━━━━━━━\u001b[0m\u001b[37m\u001b[0m \u001b[1m0s\u001b[0m 77ms/step\n",
            "\n",
            "Comment: IDK\n",
            "Toxicity Prediction: NON-TOXIC (Score: 0.1325)\n",
            "\n",
            "Enter a comment (or 'exit' to quit): MFK\n",
            "\u001b[1m1/1\u001b[0m \u001b[32m━━━━━━━━━━━━━━━━━━━━\u001b[0m\u001b[37m\u001b[0m \u001b[1m0s\u001b[0m 73ms/step\n",
            "\n",
            "Comment: MFK\n",
            "Toxicity Prediction: NON-TOXIC (Score: 0.2313)\n",
            "\n",
            "Enter a comment (or 'exit' to quit): MTF\n",
            "\u001b[1m1/1\u001b[0m \u001b[32m━━━━━━━━━━━━━━━━━━━━\u001b[0m\u001b[37m\u001b[0m \u001b[1m0s\u001b[0m 78ms/step\n",
            "\n",
            "Comment: MTF\n",
            "Toxicity Prediction: NON-TOXIC (Score: 0.2313)\n",
            "\n",
            "Enter a comment (or 'exit' to quit): IEEE\n",
            "\u001b[1m1/1\u001b[0m \u001b[32m━━━━━━━━━━━━━━━━━━━━\u001b[0m\u001b[37m\u001b[0m \u001b[1m0s\u001b[0m 82ms/step\n",
            "\n",
            "Comment: IEEE\n",
            "Toxicity Prediction: NON-TOXIC (Score: 0.2313)\n",
            "\n",
            "Enter a comment (or 'exit' to quit): Amr daib\n",
            "\u001b[1m1/1\u001b[0m \u001b[32m━━━━━━━━━━━━━━━━━━━━\u001b[0m\u001b[37m\u001b[0m \u001b[1m0s\u001b[0m 75ms/step\n",
            "\n",
            "Comment: Amr daib\n",
            "Toxicity Prediction: NON-TOXIC (Score: 0.1950)\n",
            "\n",
            "Enter a comment (or 'exit' to quit):  i exit\n",
            "\u001b[1m1/1\u001b[0m \u001b[32m━━━━━━━━━━━━━━━━━━━━\u001b[0m\u001b[37m\u001b[0m \u001b[1m0s\u001b[0m 82ms/step\n",
            "\n",
            "Comment:  i exit\n",
            "Toxicity Prediction: NON-TOXIC (Score: 0.2051)\n",
            "\n",
            "Enter a comment (or 'exit' to quit): exit\n"
          ]
        }
      ]
    }
  ]
}